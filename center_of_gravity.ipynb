{
 "cells": [
  {
   "cell_type": "code",
   "execution_count": 1,
   "metadata": {},
   "outputs": [],
   "source": [
    "#links\n",
    "# https://datacarpentry.org/image-processing/07-thresholding/\n",
    "# https://learnopencv.com/find-center-of-blob-centroid-using-opencv-cpp-python/\n",
    "# https://scikit-image.org/docs/stable/auto_examples/applications/plot_thresholding.html"
   ]
  },
  {
   "cell_type": "code",
   "execution_count": 2,
   "metadata": {},
   "outputs": [],
   "source": [
    "import sys\n",
    "import numpy as np\n",
    "import skimage.color\n",
    "import skimage.filters\n",
    "import skimage.io"
   ]
  },
  {
   "cell_type": "code",
   "execution_count": 142,
   "metadata": {},
   "outputs": [],
   "source": [
    "import cv2"
   ]
  },
  {
   "cell_type": "code",
   "execution_count": 179,
   "metadata": {},
   "outputs": [],
   "source": [
    "img_cent = []"
   ]
  },
  {
   "cell_type": "code",
   "execution_count": 199,
   "metadata": {},
   "outputs": [],
   "source": [
    "def centroid(image):\n",
    "    blur = skimage.color.rgb2gray(image)\n",
    "    blur = skimage.filters.gaussian(blur, sigma=1)\n",
    "#     t = skimage.filters.threshold_li(blur)\n",
    "#     t = skimage.filters.threshold_mean(blur)\n",
    "#     t = skimage.filters.threshold_minimum(blur)\n",
    "#     t = skimage.filters.threshold_otsu(blur)\n",
    "    t = skimage.filters.threshold_yen(blur)\n",
    "#     t = skimage.filters.threshold_triangle(blur)\n",
    "\n",
    "    # convert image to grayscale image\n",
    "    gray_image = cv2.cvtColor(image, cv2.COLOR_BGR2GRAY)\n",
    "\n",
    "    # convert the grayscale image to binary image\n",
    "    ret,thresh = cv2.threshold(gray_image,t*255,255,0)\n",
    "    \n",
    "    \n",
    "    # calculate moments of binary image\n",
    "    M = cv2.moments(thresh)\n",
    "\n",
    "    # calculate x,y coordinate of center\n",
    "    cX = int(M[\"m10\"] / M[\"m00\"])\n",
    "    cY = int(M[\"m01\"] / M[\"m00\"])\n",
    "\n",
    "    # put text and highlight the center\n",
    "    cv2.circle(image, (cX, cY), 5, (255, 0, 0), -1)\n",
    "    cv2.putText(image, \"centroid with yen\", (cX - 25, cY - 25),cv2.FONT_HERSHEY_SIMPLEX, 0.5, (255, 0, 0), 2)\n",
    "\n",
    "    # display the image\n",
    "    img_cent.append(image)\n",
    "    cv2.waitKey(0)"
   ]
  },
  {
   "cell_type": "code",
   "execution_count": 215,
   "metadata": {},
   "outputs": [],
   "source": [
    "for i in range(10,30):\n",
    "    image = skimage.io.imread(\"E:/my_courses/robotic/Learning/object/butterfly/image_00{}.jpg\".format(i))\n",
    "    centroid(image)"
   ]
  },
  {
   "cell_type": "code",
   "execution_count": 216,
   "metadata": {},
   "outputs": [],
   "source": [
    "from matplotlib.pyplot import figure,imshow\n",
    "\n",
    "j = 1\n",
    "for i in range(16,len(img_cent)):\n",
    "    fig = figure(figsize=(5,5))\n",
    "    fig.add_subplot(1,1,1)\n",
    "    imshow(img_cent[i])\n",
    "    j = j + 1\n"
   ]
  },
  {
   "cell_type": "code",
   "execution_count": 217,
   "metadata": {},
   "outputs": [],
   "source": [
    "for i in range(len(img_cent)):\n",
    "    cv2.imwrite(\"E:/my_courses/robotic/Learning/object/centroid_img/img_{}.jpg\".format(i),img_cent[i])"
   ]
  },
  {
   "cell_type": "code",
   "execution_count": 219,
   "metadata": {},
   "outputs": [
    {
     "data": {
      "text/plain": [
       "0"
      ]
     },
     "execution_count": 219,
     "metadata": {},
     "output_type": "execute_result"
    }
   ],
   "source": [
    "import gc\n",
    "gc.collect()"
   ]
  },
  {
   "cell_type": "code",
   "execution_count": null,
   "metadata": {},
   "outputs": [],
   "source": []
  },
  {
   "cell_type": "code",
   "execution_count": null,
   "metadata": {},
   "outputs": [],
   "source": []
  },
  {
   "cell_type": "code",
   "execution_count": null,
   "metadata": {},
   "outputs": [],
   "source": []
  },
  {
   "cell_type": "code",
   "execution_count": null,
   "metadata": {},
   "outputs": [],
   "source": []
  },
  {
   "cell_type": "code",
   "execution_count": null,
   "metadata": {},
   "outputs": [],
   "source": []
  }
 ],
 "metadata": {
  "kernelspec": {
   "display_name": "Python 3",
   "language": "python",
   "name": "python3"
  },
  "language_info": {
   "codemirror_mode": {
    "name": "ipython",
    "version": 3
   },
   "file_extension": ".py",
   "mimetype": "text/x-python",
   "name": "python",
   "nbconvert_exporter": "python",
   "pygments_lexer": "ipython3",
   "version": "3.7.1"
  }
 },
 "nbformat": 4,
 "nbformat_minor": 2
}
